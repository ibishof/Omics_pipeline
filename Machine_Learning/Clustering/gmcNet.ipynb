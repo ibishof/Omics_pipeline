{
 "cells": [
  {
   "cell_type": "code",
   "execution_count": 1,
   "metadata": {},
   "outputs": [],
   "source": [
    "import pip"
   ]
  },
  {
   "cell_type": "code",
   "execution_count": 2,
   "metadata": {},
   "outputs": [
    {
     "name": "stdout",
     "output_type": "stream",
     "text": [
      "Defaulting to user installation because normal site-packages is not writeable\n",
      "Requirement already satisfied: scikit-learn in c:\\users\\ibish\\appdata\\roaming\\python\\python310\\site-packages (1.3.2)\n",
      "Requirement already satisfied: numpy<2.0,>=1.17.3 in c:\\program files\\python310\\lib\\site-packages (from scikit-learn) (1.26.1)\n",
      "Requirement already satisfied: scipy>=1.5.0 in c:\\users\\ibish\\appdata\\roaming\\python\\python310\\site-packages (from scikit-learn) (1.11.3)\n",
      "Requirement already satisfied: joblib>=1.1.1 in c:\\users\\ibish\\appdata\\roaming\\python\\python310\\site-packages (from scikit-learn) (1.3.2)\n",
      "Requirement already satisfied: threadpoolctl>=2.0.0 in c:\\users\\ibish\\appdata\\roaming\\python\\python310\\site-packages (from scikit-learn) (3.2.0)\n",
      "Note: you may need to restart the kernel to use updated packages.\n"
     ]
    }
   ],
   "source": [
    "%pip install scikit-learn"
   ]
  },
  {
   "cell_type": "code",
   "execution_count": 12,
   "metadata": {},
   "outputs": [],
   "source": [
    "import numpy\n",
    "import matplotlib\n",
    "import seaborn\n",
    "import tensorflow\n",
    "import sklearn\n",
    "import os"
   ]
  },
  {
   "cell_type": "code",
   "execution_count": 2,
   "metadata": {},
   "outputs": [
    {
     "name": "stdout",
     "output_type": "stream",
     "text": [
      "c:\\Users\\ibish\\scripts\\juypter_notebooks\n"
     ]
    }
   ],
   "source": [
    "# Check current working directory\n",
    "print(os.getcwd())\n",
    "\n",
    "# Change directory if necessary\n",
    "os.chdir('C:/Users/ibish/gmcNet')\n"
   ]
  },
  {
   "cell_type": "code",
   "execution_count": 15,
   "metadata": {},
   "outputs": [
    {
     "name": "stdout",
     "output_type": "stream",
     "text": [
      "Directory created at C:/Users/ibish/gmcNet/out5\n"
     ]
    }
   ],
   "source": [
    "# Create out folder\n",
    "# Define the path for the new directory\n",
    "directory_path = 'C:/Users/ibish/gmcNet/out5'\n",
    "\n",
    "# Create the directory if it doesn't exist\n",
    "if not os.path.exists(directory_path):\n",
    "    os.makedirs(directory_path)\n",
    "    print(f\"Directory created at {directory_path}\")\n",
    "else:\n",
    "    print(f\"Directory already exists at {directory_path}\")"
   ]
  },
  {
   "cell_type": "code",
   "execution_count": 16,
   "metadata": {},
   "outputs": [
    {
     "name": "stdout",
     "output_type": "stream",
     "text": [
      "Load Expression data......\n",
      "Data includes 3334 genes with 419 expression samples.\n",
      "Calculate TOM...\n",
      "Save TOMs at C:\\Users\\ibish\\gmcNet\\out5/TOMs\n",
      "Rum gmcNet...\n"
     ]
    },
    {
     "name": "stderr",
     "output_type": "stream",
     "text": [
      "WARNING:absl:`lr` is deprecated in Keras optimizer, please use `learning_rate` or use the legacy optimizer, e.g.,tf.keras.optimizers.legacy.Adam.\n"
     ]
    },
    {
     "name": "stdout",
     "output_type": "stream",
     "text": [
      "Epoch 100/5000.....9194821119308472..(-0.71627945, 0.9194821)          0.8507847189903259..(-0.7218824, 0.8507847)          0.8064629435539246..(-0.7012062, 0.80646294)          0.7571006417274475..(-0.6932361, 0.75710064)          0.6963273882865906..(-0.67618525, 0.6963274)          0.6436772346496582..(-0.67436427, 0.64367723)          0.6033474802970886..(-0.6659233, 0.6033475)          0.574196457862854..(-0.6636867, 0.57419646)          0.5522951483726501..(-0.6565324, 0.55229515)          -0.9064114689826965..(-0.6555624, 0.5358258)          \n",
      "\n",
      " Training is early stop on Epoch 108\n",
      "Done..\n",
      "Save CEPR_embdding feature at C:\\Users\\ibish\\gmcNet\\out5/CEPR_embedding.txt\n",
      "Save CEPR_embdding Plot at C:\\Users\\ibish\\gmcNet\\out5/CEPR_embedding.png\n",
      "Save clustering labels at C:\\Users\\ibish\\gmcNet\\out5/labels.txt\n",
      "--------------------------------------------------\n",
      "K1: 422\n",
      "K10: 227\n",
      "K11: 450\n",
      "K12: 140\n",
      "K2: 364\n",
      "K3: 3\n",
      "K4: 268\n",
      "K5: 382\n",
      "K6: 144\n",
      "K7: 285\n",
      "K8: 149\n",
      "K9: 500\n",
      "--------------------------------------------------\n"
     ]
    },
    {
     "data": {
      "image/png": "[encoded data removed]",
      "text/plain": [
       "<Figure size 400x400 with 1 Axes>"
      ]
     },
     "metadata": {},
     "output_type": "display_data"
    }
   ],
   "source": [
    "# %run send the code to command prompt\n",
    "%run \"C:/Users/ibish/gmcNet/main.py\" --expr \"C:/Users/ibish/gmcNet/data/data.txt\" --out \"C:\\Users\\ibish\\gmcNet\\out5\"\n"
   ]
  }
 ],
 "metadata": {
  "kernelspec": {
   "display_name": "Python 3",
   "language": "python",
   "name": "python3"
  },
  "language_info": {
   "codemirror_mode": {
    "name": "ipython",
    "version": 3
   },
   "file_extension": ".py",
   "mimetype": "text/x-python",
   "name": "python",
   "nbconvert_exporter": "python",
   "pygments_lexer": "ipython3",
   "version": "3.10.9"
  }
 },
 "nbformat": 4,
 "nbformat_minor": 2
}
