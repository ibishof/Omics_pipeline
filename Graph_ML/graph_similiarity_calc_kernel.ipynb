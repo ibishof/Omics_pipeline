{
 "cells": [
  {
   "cell_type": "code",
   "execution_count": 15,
   "metadata": {},
   "outputs": [],
   "source": [
    "# pip install grakel"
   ]
  },
  {
   "cell_type": "code",
   "execution_count": 16,
   "metadata": {},
   "outputs": [],
   "source": [
    "# Load libraries\n",
    "import numpy as np\n",
    "from grakel import GraphKernel\n",
    "from grakel.kernels import ShortestPath\n",
    "from grakel.kernels import WeisfeilerLehman\n",
    "from grakel.kernels import RandomWalk\n",
    "from grakel.kernels import GraphletSampling\n"
   ]
  },
  {
   "cell_type": "code",
   "execution_count": 23,
   "metadata": {},
   "outputs": [],
   "source": [
    "# Example adjacency matrices for two graphs\n",
    "adj_matrix_1 = np.array([\n",
    "    [0, 1, 1, 1, 1, 0, 0, 0],\n",
    "    [1, 0, 0, 0, 0, 0, 0, 0],\n",
    "    [1, 0, 0, 0, 0, 1, 0, 0],\n",
    "    [1, 0, 0, 0, 0, 0, 0, 0],\n",
    "    [1, 0, 0, 0, 0, 0, 1, 1],\n",
    "    [0, 0, 1, 0, 0, 0, 1, 1],\n",
    "    [0, 0, 0, 0, 1, 1, 0, 0],\n",
    "    [0, 0, 0, 0, 1, 1, 0, 0]\n",
    "])\n",
    "\n",
    "adj_matrix_2 = np.array([\n",
    "    [0, 1, 1, 1, 1, 0, 0, 0],\n",
    "    [1, 0, 0, 0, 0, 0, 0, 0],\n",
    "    [1, 0, 0, 0, 0, 1, 0, 0],\n",
    "    [1, 0, 0, 0, 0, 0, 0, 0],\n",
    "    [1, 0, 0, 0, 0, 0, 0, 0],\n",
    "    [0, 0, 1, 0, 0, 0, 1, 1],\n",
    "    [0, 0, 0, 0, 0, 1, 0, 0],\n",
    "    [0, 0, 0, 0, 0, 1, 0, 0]\n",
    "])"
   ]
  },
  {
   "cell_type": "code",
   "execution_count": 24,
   "metadata": {},
   "outputs": [],
   "source": [
    "# Convert adjacency matrices to graph format if necessary\n",
    "# In grakel, a graph can be represented as a tuple of its adjacency matrix and node labels (optional)\n",
    "# Generate node labels based on the number of nodes in each graph\n",
    "# Generate node labels as dictionaries with integers as labels\n",
    "node_labels_1 = {i: i for i in range(adj_matrix_1.shape[0])}  # {0: 0, 1: 1, 2: 2}\n",
    "node_labels_2 = {i: i for i in range(adj_matrix_2.shape[0])}  # {0: 0, 1: 1}"
   ]
  },
  {
   "cell_type": "code",
   "execution_count": 25,
   "metadata": {},
   "outputs": [],
   "source": [
    "# List of graphs\n",
    "graph_1 = (adj_matrix_1, node_labels_1)\n",
    "graph_2 = (adj_matrix_2, node_labels_2)"
   ]
  },
  {
   "cell_type": "code",
   "execution_count": 26,
   "metadata": {},
   "outputs": [],
   "source": [
    "# List of graphs\n",
    "graphs = [graph_1, graph_2]"
   ]
  },
  {
   "cell_type": "code",
   "execution_count": 27,
   "metadata": {},
   "outputs": [],
   "source": [
    "# Initialize a Graph Kernel (here, ShortestPath kernel is used as an example)\n",
    "kernel_rw = RandomWalk()\n",
    "kernel_sp = ShortestPath()\n",
    "kernel_gs = GraphletSampling()\n",
    "kernel_wl = WeisfeilerLehman()"
   ]
  },
  {
   "cell_type": "code",
   "execution_count": 28,
   "metadata": {},
   "outputs": [],
   "source": [
    "# Compute the kernel matrix\n",
    "kernel_matrix_rw = kernel_rw.fit_transform(graphs)\n",
    "kernel_matrix_sp = kernel_sp.fit_transform(graphs)\n",
    "kernel_matrix_gs = kernel_gs.fit_transform(graphs) # Slow for large graphs\n",
    "kernel_matrix_wl = kernel_wl.fit_transform(graphs)"
   ]
  },
  {
   "cell_type": "code",
   "execution_count": 29,
   "metadata": {},
   "outputs": [
    {
     "name": "stdout",
     "output_type": "stream",
     "text": [
      "Random Walk Similarity score: 122.68369577449475\n",
      "Shortest Path Similarity score: 38.0\n",
      "Graphlet Similarity score: 123.0\n",
      "Weisfeiler Lehman Similarity score: 16.0\n"
     ]
    }
   ],
   "source": [
    "# The similarity score between graph_1 and graph_2\n",
    "similarity_score_rw = kernel_matrix_rw[0, 1]\n",
    "similarity_score_sp = kernel_matrix_sp[0, 1]\n",
    "similarity_score_gs = kernel_matrix_gs[0, 1]\n",
    "similarity_score_wl = kernel_matrix_wl[0, 1]\n",
    "\n",
    "print(\"Random Walk Similarity score:\", similarity_score_rw)\n",
    "print(\"Shortest Path Similarity score:\", similarity_score_sp)\n",
    "print(\"Graphlet Similarity score:\", similarity_score_gs)\n",
    "print(\"Weisfeiler Lehman Similarity score:\", similarity_score_wl)"
   ]
  }
 ],
 "metadata": {
  "kernelspec": {
   "display_name": "Python 3",
   "language": "python",
   "name": "python3"
  },
  "language_info": {
   "codemirror_mode": {
    "name": "ipython",
    "version": 3
   },
   "file_extension": ".py",
   "mimetype": "text/x-python",
   "name": "python",
   "nbconvert_exporter": "python",
   "pygments_lexer": "ipython3",
   "version": "3.10.9"
  }
 },
 "nbformat": 4,
 "nbformat_minor": 2
}
