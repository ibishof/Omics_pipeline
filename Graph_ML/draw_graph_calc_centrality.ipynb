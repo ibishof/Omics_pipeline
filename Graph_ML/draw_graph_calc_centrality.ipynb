{
 "cells": [
  {
   "cell_type": "code",
   "execution_count": 14,
   "metadata": {},
   "outputs": [],
   "source": [
    "import numpy as np\n",
    "import networkx as nx\n",
    "import matplotlib.pyplot as plt\n"
   ]
  },
  {
   "cell_type": "code",
   "execution_count": 15,
   "metadata": {},
   "outputs": [],
   "source": [
    "# Define the adjacency matrix\n",
    "A = np.array([\n",
    "    [0, 1, 1, 1, 1, 0, 0, 0],\n",
    "    [1, 0, 0, 0, 0, 0, 0, 0],\n",
    "    [1, 0, 0, 0, 0, 1, 0, 0],\n",
    "    [1, 0, 0, 0, 0, 0, 0, 0],\n",
    "    [1, 0, 0, 0, 0, 0, 0, 0],\n",
    "    [0, 0, 1, 0, 0, 0, 1, 1],\n",
    "    [0, 0, 0, 0, 0, 1, 0, 0],\n",
    "    [0, 0, 0, 0, 0, 1, 0, 0]\n",
    "])"
   ]
  },
  {
   "cell_type": "code",
   "execution_count": 16,
   "metadata": {},
   "outputs": [
    {
     "data": {
      "image/png": "[encoded data removed]",
      "text/plain": [
       "<Figure size 640x480 with 1 Axes>"
      ]
     },
     "metadata": {},
     "output_type": "display_data"
    }
   ],
   "source": [
    "# Create a directed graph from the adjacency matrix\n",
    "G = nx.from_numpy_array(A, create_using=nx.DiGraph())\n",
    "\n",
    "# Draw the graph\n",
    "pos = nx.spring_layout(G)  # positions for all nodes\n",
    "nx.draw(G, pos, with_labels=True, node_size=700, node_color=\"lightblue\", arrows=True)\n",
    "plt.show()"
   ]
  },
  {
   "cell_type": "code",
   "execution_count": 17,
   "metadata": {},
   "outputs": [
    {
     "name": "stdout",
     "output_type": "stream",
     "text": [
      "Eigenvector centrality for each node:\n",
      "[0.60150096 0.27990313 0.45289278 0.27990313 0.27990313 0.37174803\n",
      " 0.17298965 0.17298965]\n"
     ]
    }
   ],
   "source": [
    "# Calculate the eigenvectors and eigenvalues of the adjacency matrix\n",
    "eigenvalues, eigenvectors = np.linalg.eig(A)\n",
    "\n",
    "# Find the index of the largest eigenvalue\n",
    "index_max = np.argmax(eigenvalues)\n",
    "\n",
    "# The eigenvector corresponding to the largest eigenvalue is the eigenvector centrality\n",
    "eigenvector_centrality = eigenvectors[:, index_max]\n",
    "\n",
    "# Normalize the eigenvector centrality so that the vector has a unit length\n",
    "eigenvector_centrality = eigenvector_centrality / np.linalg.norm(eigenvector_centrality)\n",
    "\n",
    "# If the first element is negative, flip the sign of the eigenvector\n",
    "if eigenvector_centrality[0] < 0:\n",
    "    eigenvector_centrality = -eigenvector_centrality\n",
    "\n",
    "# Print the eigenvector centrality for each node\n",
    "print(\"Eigenvector centrality for each node:\")\n",
    "print(eigenvector_centrality)"
   ]
  },
  {
   "cell_type": "code",
   "execution_count": 27,
   "metadata": {},
   "outputs": [
    {
     "name": "stdout",
     "output_type": "stream",
     "text": [
      "Jaccard Coefficients for each pair of nodes:\n",
      "Nodes (0, 5): 0.16666666666666666\n",
      "Nodes (0, 6): 0.0\n",
      "Nodes (0, 7): 0.0\n",
      "Nodes (1, 2): 0.5\n",
      "Nodes (1, 3): 1.0\n",
      "Nodes (1, 4): 1.0\n",
      "Nodes (1, 5): 0.0\n",
      "Nodes (1, 6): 0.0\n",
      "Nodes (1, 7): 0.0\n",
      "Nodes (2, 3): 0.5\n",
      "Nodes (2, 4): 0.5\n",
      "Nodes (2, 6): 0.5\n",
      "Nodes (2, 7): 0.5\n",
      "Nodes (3, 4): 1.0\n",
      "Nodes (3, 5): 0.0\n",
      "Nodes (3, 6): 0.0\n",
      "Nodes (3, 7): 0.0\n",
      "Nodes (4, 5): 0.0\n",
      "Nodes (4, 6): 0.0\n",
      "Nodes (4, 7): 0.0\n",
      "Nodes (6, 7): 1.0\n"
     ]
    }
   ],
   "source": [
    "# Jaccard Coefficent is a way of measuring the overlap of neighbors between two nodes.\n",
    "G = nx.Graph(A)\n",
    "\n",
    "# Calculate Jaccard Coefficients for each pair of nodes\n",
    "jaccard_coefficients = nx.jaccard_coefficient(G)\n",
    "\n",
    "# Print Jaccard Coefficients\n",
    "print(\"Jaccard Coefficients for each pair of nodes:\")\n",
    "for u, v, jc in jaccard_coefficients:\n",
    "    print(f\"Nodes ({u}, {v}): {jc}\")\n"
   ]
  },
  {
   "cell_type": "code",
   "execution_count": 29,
   "metadata": {},
   "outputs": [
    {
     "name": "stdout",
     "output_type": "stream",
     "text": [
      "The largest eigenvalue: 2.148961141749636\n",
      "Reciprocal of the largest eigenvalue: 0.46534112719498616\n"
     ]
    }
   ],
   "source": [
    "# Calculate max value that alpha can be\n",
    "# This will be later used for the Katz centrality calc\n",
    "# Calculate all eigenvalues\n",
    "eigenvalues = np.linalg.eigvals(A)\n",
    "\n",
    "# Find the largest eigenvalue (in absolute value)\n",
    "largest_eigenvalue = max(abs(eigenvalues))\n",
    "\n",
    "# Calculate the reciprocal of the largest eigenvalue\n",
    "reciprocal_largest_eigenvalue = 1 / largest_eigenvalue\n",
    "\n",
    "print(\"The largest eigenvalue:\", largest_eigenvalue)\n",
    "print(\"Reciprocal of the largest eigenvalue:\", reciprocal_largest_eigenvalue)"
   ]
  },
  {
   "cell_type": "code",
   "execution_count": 30,
   "metadata": {},
   "outputs": [
    {
     "name": "stdout",
     "output_type": "stream",
     "text": [
      "Katz centrality for each node:\n",
      "Node 0: 0.5200190531142507\n",
      "Node 1: 0.2903561818784677\n",
      "Node 2: 0.4144935016188395\n",
      "Node 3: 0.2903561818784677\n",
      "Node 4: 0.2903561818784677\n",
      "Node 5: 0.41379126709653613\n",
      "Node 6: 0.25848788339439527\n",
      "Node 7: 0.25848788339439527\n"
     ]
    }
   ],
   "source": [
    "# Global neighborhood overlap using Katz centrality\n",
    "# Create a graph from the adjacency matrix\n",
    "G = nx.from_numpy_array(A)\n",
    "\n",
    "# Choose an alpha value (should be less than 1 / largest eigenvalue of A for convergence)\n",
    "alpha = 0.3 # alpha should be less than the reciprocal of the largest eigenvalue of the adjacency matrix\n",
    "beta = 1 \n",
    "\n",
    "# Compute Katz centrality\n",
    "katz_centrality = nx.katz_centrality(G, alpha=alpha, beta=beta)\n",
    "\n",
    "# Print Katz centrality for each node\n",
    "print(\"Katz centrality for each node:\")\n",
    "for node, centrality in katz_centrality.items():\n",
    "    print(f\"Node {node}: {centrality}\")"
   ]
  }
 ],
 "metadata": {
  "kernelspec": {
   "display_name": "Python 3",
   "language": "python",
   "name": "python3"
  },
  "language_info": {
   "codemirror_mode": {
    "name": "ipython",
    "version": 3
   },
   "file_extension": ".py",
   "mimetype": "text/x-python",
   "name": "python",
   "nbconvert_exporter": "python",
   "pygments_lexer": "ipython3",
   "version": "3.10.9"
  }
 },
 "nbformat": 4,
 "nbformat_minor": 2
}
